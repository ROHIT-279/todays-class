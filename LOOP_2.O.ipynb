{
 "cells": [
  {
   "cell_type": "code",
   "execution_count": 2,
   "id": "fe722f67-b343-4b3b-bbd7-46d3b044eae8",
   "metadata": {},
   "outputs": [],
   "source": [
    "L1 =[\"radha\", \"krishna\", \"kishori\",\"govinda\"]"
   ]
  },
  {
   "cell_type": "code",
   "execution_count": 2,
   "id": "3c7e3e59-5dfc-44e5-ba8c-b98478ab804f",
   "metadata": {},
   "outputs": [
    {
     "name": "stdout",
     "output_type": "stream",
     "text": [
      "radha\n",
      "krishna\n",
      "kishori\n",
      "govinda\n"
     ]
    }
   ],
   "source": [
    "L2 =[]\n",
    "for k in L1:\n",
    "    print(k) \n",
    "    L2.append(k.upper()) \n",
    "    "
   ]
  },
  {
   "cell_type": "code",
   "execution_count": 13,
   "id": "3e8a910d-344b-468f-b676-612a63abfbd8",
   "metadata": {},
   "outputs": [
    {
     "data": {
      "text/plain": [
       "['RADHA', 'KRISHNA', 'KISHORI', 'GOVINDA']"
      ]
     },
     "execution_count": 13,
     "metadata": {},
     "output_type": "execute_result"
    }
   ],
   "source": [
    "L2"
   ]
  },
  {
   "cell_type": "code",
   "execution_count": 3,
   "id": "5adacee1-6a7a-401f-a127-269c3079d328",
   "metadata": {},
   "outputs": [
    {
     "name": "stdout",
     "output_type": "stream",
     "text": [
      "radha\n",
      "krishna\n",
      "kishori\n",
      "govinda\n",
      "IF FOR LOOP IS ABLE TO COMPLETE ITSELF THEN ONLY ELSE WILL EXECUTE\n"
     ]
    }
   ],
   "source": [
    "for i in L1 :\n",
    "    print(i)\n",
    "else :\n",
    "    print(\"IF FOR LOOP IS ABLE TO COMPLETE ITSELF THEN ONLY ELSE WILL EXECUTE\")"
   ]
  },
  {
   "cell_type": "code",
   "execution_count": 21,
   "id": "2ff8b82f-9c0f-4637-b861-bd107fcef9c5",
   "metadata": {},
   "outputs": [
    {
     "name": "stdout",
     "output_type": "stream",
     "text": [
      "radha\n"
     ]
    }
   ],
   "source": [
    "for j in L1:\n",
    "    if j == \"krishna\":\n",
    "        break\n",
    "    print(j)"
   ]
  },
  {
   "cell_type": "code",
   "execution_count": 8,
   "id": "ef73efb7-8ebe-4a13-8b2b-61cd4916cc98",
   "metadata": {},
   "outputs": [
    {
     "name": "stdout",
     "output_type": "stream",
     "text": [
      "radha\n",
      "kishori\n",
      "govinda\n",
      "IF FOR LOOP IS ABLE TO COMPLETE ITSELF THEN ONLY ELSE WILL EXECUTE\n"
     ]
    }
   ],
   "source": [
    "for j in L1:\n",
    "    if j == \"krishna\":\n",
    "        continue\n",
    "    print(j)\n",
    "else:\n",
    "    print(\"IF FOR LOOP IS ABLE TO COMPLETE ITSELF THEN ONLY ELSE WILL EXECUTE\")"
   ]
  },
  {
   "cell_type": "code",
   "execution_count": 9,
   "id": "2d3da604-3615-46b4-b0a8-f4c871f1cdcf",
   "metadata": {},
   "outputs": [
    {
     "data": {
      "text/plain": [
       "range(0, 6)"
      ]
     },
     "execution_count": 9,
     "metadata": {},
     "output_type": "execute_result"
    }
   ],
   "source": [
    "range(6)"
   ]
  },
  {
   "cell_type": "code",
   "execution_count": 10,
   "id": "890cd39b-4b79-43fb-a54c-18475a1b0768",
   "metadata": {},
   "outputs": [
    {
     "data": {
      "text/plain": [
       "[0, 1, 2, 3, 4, 5]"
      ]
     },
     "execution_count": 10,
     "metadata": {},
     "output_type": "execute_result"
    }
   ],
   "source": [
    "list(range(6))"
   ]
  },
  {
   "cell_type": "code",
   "execution_count": 12,
   "id": "80af77a6-97b8-475a-b885-568cd6d0d3b3",
   "metadata": {},
   "outputs": [
    {
     "data": {
      "text/plain": [
       "[0, 4, 8, 12, 16, 20, 24, 28, 32, 36]"
      ]
     },
     "execution_count": 12,
     "metadata": {},
     "output_type": "execute_result"
    }
   ],
   "source": [
    "list(range(0,40,4))"
   ]
  },
  {
   "cell_type": "code",
   "execution_count": 15,
   "id": "260929fe-bb8b-4fa2-aa0e-347186bb2710",
   "metadata": {},
   "outputs": [
    {
     "data": {
      "text/plain": [
       "['radha', 'krishna', 'kishori', 'govinda']"
      ]
     },
     "execution_count": 15,
     "metadata": {},
     "output_type": "execute_result"
    }
   ],
   "source": [
    "L1"
   ]
  },
  {
   "cell_type": "code",
   "execution_count": 16,
   "id": "3202d120-373a-407d-9031-7b149b2ce109",
   "metadata": {},
   "outputs": [
    {
     "data": {
      "text/plain": [
       "4"
      ]
     },
     "execution_count": 16,
     "metadata": {},
     "output_type": "execute_result"
    }
   ],
   "source": [
    "len(L1)"
   ]
  },
  {
   "cell_type": "code",
   "execution_count": 29,
   "id": "91604826-084b-4b30-a1c7-32cf0e519eae",
   "metadata": {},
   "outputs": [
    {
     "data": {
      "text/plain": [
       "[3, 2, 1, 0]"
      ]
     },
     "execution_count": 29,
     "metadata": {},
     "output_type": "execute_result"
    }
   ],
   "source": [
    "list(range(len(L1)-1,-1,-1))"
   ]
  },
  {
   "cell_type": "code",
   "execution_count": 45,
   "id": "5bf4e0bc-7cc1-4254-aaf7-0f35008e1f56",
   "metadata": {},
   "outputs": [
    {
     "name": "stdout",
     "output_type": "stream",
     "text": [
      "govinda\n",
      "kishori\n",
      "krishna\n",
      "radha\n"
     ]
    },
    {
     "data": {
      "text/plain": [
       "['GOVINDA', 'KISHORI', 'KRISHNA', 'RADHA']"
      ]
     },
     "execution_count": 45,
     "metadata": {},
     "output_type": "execute_result"
    }
   ],
   "source": [
    "k1=[]\n",
    "for i in range(len(L1)-1,-1,-1):\n",
    "    print(L1[i])\n",
    "    k1.append(L1[i].upper())\n",
    "k1"
   ]
  },
  {
   "cell_type": "code",
   "execution_count": 49,
   "id": "b737968d-8f99-4359-8506-5f665a2cde81",
   "metadata": {},
   "outputs": [],
   "source": [
    "L2 = [56,13,97,35,209,35,46,24,46,76]"
   ]
  },
  {
   "cell_type": "code",
   "execution_count": 53,
   "id": "1f04573a-da59-4418-8002-31d6587a348b",
   "metadata": {},
   "outputs": [
    {
     "data": {
      "text/plain": [
       "[0, 2, 4, 6, 8]"
      ]
     },
     "execution_count": 53,
     "metadata": {},
     "output_type": "execute_result"
    }
   ],
   "source": [
    "list(range(0,len(L2),2))"
   ]
  },
  {
   "cell_type": "code",
   "execution_count": 51,
   "id": "d75cdcb4-d98f-4a03-911c-172fe0cec6a7",
   "metadata": {},
   "outputs": [
    {
     "data": {
      "text/plain": [
       "True"
      ]
     },
     "execution_count": 51,
     "metadata": {},
     "output_type": "execute_result"
    }
   ],
   "source": [
    "\"pwskills\"[::-1].upper().replace(\"SLLIKSWP\", \"pwskills\").islower()"
   ]
  },
  {
   "cell_type": "code",
   "execution_count": 3,
   "id": "f164fb37-7f3b-42e4-9aa4-31be12f03532",
   "metadata": {},
   "outputs": [
    {
     "name": "stdout",
     "output_type": "stream",
     "text": [
      "I\n",
      "Want\n",
      "To\n",
      "Become\n",
      "A\n",
      "Data\n",
      "Scientist\n"
     ]
    }
   ],
   "source": [
    "s = \"I want to become a data scientist\"\n",
    "\n",
    "for i in s.split():\n",
    "\n",
    "    i.capitalize()\n",
    "\n",
    "    print(i.title())"
   ]
  },
  {
   "cell_type": "code",
   "execution_count": 4,
   "id": "559c1843-6b10-4043-8e48-7cd81e2a9707",
   "metadata": {},
   "outputs": [
    {
     "name": "stdout",
     "output_type": "stream",
     "text": [
      "govinda\n",
      "kishori\n",
      "krishna\n",
      "radha\n"
     ]
    }
   ],
   "source": [
    "for i in [3,2,1,0]:\n",
    "    print(L1[i])"
   ]
  },
  {
   "cell_type": "code",
   "execution_count": 8,
   "id": "d7439dc3-3c01-4443-8de9-d7bf4d4ef38c",
   "metadata": {},
   "outputs": [],
   "source": [
    "J2 =[52,69,74,46,21,36,108,74,56,98,206]"
   ]
  },
  {
   "cell_type": "code",
   "execution_count": 9,
   "id": "34e641e6-965e-4d84-9d73-e9228ddcbcb0",
   "metadata": {},
   "outputs": [
    {
     "data": {
      "text/plain": [
       "[0, 2, 4, 6, 8, 10]"
      ]
     },
     "execution_count": 9,
     "metadata": {},
     "output_type": "execute_result"
    }
   ],
   "source": [
    "list(range(0,len(J2),2))\n",
    "        "
   ]
  },
  {
   "cell_type": "code",
   "execution_count": 10,
   "id": "84683460-dd98-4bb7-acf3-c787f5b4c389",
   "metadata": {},
   "outputs": [
    {
     "name": "stdout",
     "output_type": "stream",
     "text": [
      "52\n",
      "74\n",
      "21\n",
      "108\n",
      "56\n",
      "206\n"
     ]
    }
   ],
   "source": [
    "for i in range(0,len(J2),2):\n",
    "    print(J2[i])"
   ]
  },
  {
   "cell_type": "code",
   "execution_count": 11,
   "id": "fb12fb37-7019-4eaa-84f4-c9cc7cb35aec",
   "metadata": {},
   "outputs": [
    {
     "data": {
      "text/plain": [
       "52"
      ]
     },
     "execution_count": 11,
     "metadata": {},
     "output_type": "execute_result"
    }
   ],
   "source": [
    "J2[0]"
   ]
  },
  {
   "cell_type": "code",
   "execution_count": 15,
   "id": "b56be539-168c-4f48-861b-f547b966859e",
   "metadata": {},
   "outputs": [],
   "source": [
    "g = [1,2,3,45,76,89,90]"
   ]
  },
  {
   "cell_type": "code",
   "execution_count": 17,
   "id": "ad872576-3bf8-4098-9cd6-378ebf6afc83",
   "metadata": {},
   "outputs": [
    {
     "data": {
      "text/plain": [
       "306"
      ]
     },
     "execution_count": 17,
     "metadata": {},
     "output_type": "execute_result"
    }
   ],
   "source": [
    "sum(g)\n"
   ]
  },
  {
   "cell_type": "code",
   "execution_count": 18,
   "id": "39cff4fd-1b61-45b2-b120-86daf30f47d0",
   "metadata": {},
   "outputs": [
    {
     "data": {
      "text/plain": [
       "306"
      ]
     },
     "execution_count": 18,
     "metadata": {},
     "output_type": "execute_result"
    }
   ],
   "source": [
    "result = 0\n",
    "for i in g :\n",
    "    result = result + i\n",
    "result    "
   ]
  },
  {
   "cell_type": "code",
   "execution_count": 19,
   "id": "e50a5551-c732-4cef-a146-0b364e04abfe",
   "metadata": {},
   "outputs": [],
   "source": [
    "t = (2,58,90,45,56)"
   ]
  },
  {
   "cell_type": "code",
   "execution_count": 20,
   "id": "c2d2b93f-ea76-4d36-b281-efa2ce56d072",
   "metadata": {},
   "outputs": [
    {
     "data": {
      "text/plain": [
       "tuple"
      ]
     },
     "execution_count": 20,
     "metadata": {},
     "output_type": "execute_result"
    }
   ],
   "source": [
    "type(t)"
   ]
  },
  {
   "cell_type": "code",
   "execution_count": 21,
   "id": "5139686d-0e16-46d2-b950-a130e9d7e926",
   "metadata": {},
   "outputs": [
    {
     "data": {
      "text/plain": [
       "251"
      ]
     },
     "execution_count": 21,
     "metadata": {},
     "output_type": "execute_result"
    }
   ],
   "source": [
    "result = 0\n",
    "for i in t:\n",
    "    result = result + i\n",
    "result    "
   ]
  },
  {
   "cell_type": "code",
   "execution_count": 22,
   "id": "b7cd905a-ba68-44fc-ac14-7ba74754bcf0",
   "metadata": {},
   "outputs": [
    {
     "data": {
      "text/plain": [
       "251"
      ]
     },
     "execution_count": 22,
     "metadata": {},
     "output_type": "execute_result"
    }
   ],
   "source": [
    "sum(t)"
   ]
  },
  {
   "cell_type": "code",
   "execution_count": 26,
   "id": "66128ea8-c1d5-4563-bbd9-00b6f75fc0d8",
   "metadata": {},
   "outputs": [
    {
     "data": {
      "text/plain": [
       "[2, 58, 90, 45, 56]"
      ]
     },
     "execution_count": 26,
     "metadata": {},
     "output_type": "execute_result"
    }
   ],
   "source": [
    "list(t)"
   ]
  },
  {
   "cell_type": "code",
   "execution_count": 27,
   "id": "15ac679b-fffa-4ec7-b9f3-77d7b40e8959",
   "metadata": {},
   "outputs": [],
   "source": [
    "D1 = {\"name\" : \"KRISHNA\" , \"IDENTITY\" : \"SUPREME LORD\" , \n",
    "      \"INSTRUMENT\" : \"BANSURI\" , \"ASTRA\" : \"SUDRSHAN CHAKTA\",\n",
    "      \"SPEACH\" : \"SRHEEMAD BHAGWAD GEETA\"}"
   ]
  },
  {
   "cell_type": "code",
   "execution_count": 28,
   "id": "0289cf0b-ece5-4849-af8a-35a3aa830492",
   "metadata": {},
   "outputs": [
    {
     "data": {
      "text/plain": [
       "{'name': 'KRISHNA',\n",
       " 'IDENTITY': 'SUPREME LORD',\n",
       " 'INSTRUMENT': 'BANSURI',\n",
       " 'ASTRA': 'SUDRSHAN CHAKTA',\n",
       " 'SPEACH': 'SRHEEMAD BHAGWAD GEETA'}"
      ]
     },
     "execution_count": 28,
     "metadata": {},
     "output_type": "execute_result"
    }
   ],
   "source": [
    "D1"
   ]
  },
  {
   "cell_type": "code",
   "execution_count": 29,
   "id": "09154b8d-9163-4766-8a7f-59d4dffeb250",
   "metadata": {},
   "outputs": [
    {
     "data": {
      "text/plain": [
       "dict_items([('name', 'KRISHNA'), ('IDENTITY', 'SUPREME LORD'), ('INSTRUMENT', 'BANSURI'), ('ASTRA', 'SUDRSHAN CHAKTA'), ('SPEACH', 'SRHEEMAD BHAGWAD GEETA')])"
      ]
     },
     "execution_count": 29,
     "metadata": {},
     "output_type": "execute_result"
    }
   ],
   "source": [
    "D1.items()"
   ]
  },
  {
   "cell_type": "code",
   "execution_count": 31,
   "id": "b91ff4bb-fe7a-446f-9e48-fb1180f228cd",
   "metadata": {},
   "outputs": [
    {
     "name": "stdout",
     "output_type": "stream",
     "text": [
      "('name', 'KRISHNA')\n",
      "('IDENTITY', 'SUPREME LORD')\n",
      "('INSTRUMENT', 'BANSURI')\n",
      "('ASTRA', 'SUDRSHAN CHAKTA')\n",
      "('SPEACH', 'SRHEEMAD BHAGWAD GEETA')\n"
     ]
    }
   ],
   "source": [
    "for i in D1.items():\n",
    "    print(i)"
   ]
  },
  {
   "cell_type": "code",
   "execution_count": 40,
   "id": "ec38566b-8702-4637-9b39-9a5082604437",
   "metadata": {},
   "outputs": [
    {
     "data": {
      "text/plain": [
       "dict_values(['KRISHNA', 'SUPREME LORD', 'BANSURI', 'SUDRSHAN CHAKTA', 'SRHEEMAD BHAGWAD GEETA'])"
      ]
     },
     "execution_count": 40,
     "metadata": {},
     "output_type": "execute_result"
    }
   ],
   "source": [
    "D1.values()"
   ]
  },
  {
   "cell_type": "code",
   "execution_count": 43,
   "id": "e46d2fdb-408d-4045-a68c-9369030ea500",
   "metadata": {},
   "outputs": [
    {
     "data": {
      "text/plain": [
       "['KRISHNA',\n",
       " 'SUPREME LORD',\n",
       " 'BANSURI',\n",
       " 'SUDRSHAN CHAKTA',\n",
       " 'SRHEEMAD BHAGWAD GEETA']"
      ]
     },
     "execution_count": 43,
     "metadata": {},
     "output_type": "execute_result"
    }
   ],
   "source": [
    "L1 = []\n",
    "for i in D1.values():\n",
    "    L1.append(i)\n",
    "L1    "
   ]
  },
  {
   "cell_type": "code",
   "execution_count": null,
   "id": "e4907ec5-1358-4fd2-b245-dd77dd3ea2d5",
   "metadata": {},
   "outputs": [],
   "source": [
    "    "
   ]
  }
 ],
 "metadata": {
  "kernelspec": {
   "display_name": "Python 3 (ipykernel)",
   "language": "python",
   "name": "python3"
  },
  "language_info": {
   "codemirror_mode": {
    "name": "ipython",
    "version": 3
   },
   "file_extension": ".py",
   "mimetype": "text/x-python",
   "name": "python",
   "nbconvert_exporter": "python",
   "pygments_lexer": "ipython3",
   "version": "3.10.8"
  }
 },
 "nbformat": 4,
 "nbformat_minor": 5
}
